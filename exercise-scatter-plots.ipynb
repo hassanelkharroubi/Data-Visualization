{
 "cells": [
  {
   "cell_type": "markdown",
   "id": "166471db",
   "metadata": {
    "papermill": {
     "duration": 0.010755,
     "end_time": "2022-11-15T00:38:48.099496",
     "exception": false,
     "start_time": "2022-11-15T00:38:48.088741",
     "status": "completed"
    },
    "tags": []
   },
   "source": [
    "**This notebook is an exercise in the [Data Visualization](https://www.kaggle.com/learn/data-visualization) course.  You can reference the tutorial at [this link](https://www.kaggle.com/alexisbcook/scatter-plots).**\n",
    "\n",
    "---\n"
   ]
  },
  {
   "cell_type": "markdown",
   "id": "69e1bced",
   "metadata": {
    "papermill": {
     "duration": 0.007996,
     "end_time": "2022-11-15T00:38:48.116298",
     "exception": false,
     "start_time": "2022-11-15T00:38:48.108302",
     "status": "completed"
    },
    "tags": []
   },
   "source": [
    "In this exercise, you will use your new knowledge to propose a solution to a real-world scenario.  To succeed, you will need to import data into Python, answer questions using the data, and generate **scatter plots** to understand patterns in the data.\n",
    "\n",
    "## Scenario\n",
    "\n",
    "You work for a major candy producer, and your goal is to write a report that your company can use to guide the design of its next product.  Soon after starting your research, you stumble across this [very interesting dataset](https://fivethirtyeight.com/features/the-ultimate-halloween-candy-power-ranking/) containing results from a fun survey to crowdsource favorite candies.\n",
    "\n",
    "## Setup\n",
    "\n",
    "Run the next cell to import and configure the Python libraries that you need to complete the exercise."
   ]
  },
  {
   "cell_type": "code",
   "execution_count": 1,
   "id": "2d28b654",
   "metadata": {
    "execution": {
     "iopub.execute_input": "2022-11-15T00:38:48.135158Z",
     "iopub.status.busy": "2022-11-15T00:38:48.134616Z",
     "iopub.status.idle": "2022-11-15T00:38:49.294203Z",
     "shell.execute_reply": "2022-11-15T00:38:49.292876Z"
    },
    "papermill": {
     "duration": 1.172403,
     "end_time": "2022-11-15T00:38:49.297050",
     "exception": false,
     "start_time": "2022-11-15T00:38:48.124647",
     "status": "completed"
    },
    "tags": []
   },
   "outputs": [
    {
     "name": "stdout",
     "output_type": "stream",
     "text": [
      "Setup Complete\n"
     ]
    }
   ],
   "source": [
    "import pandas as pd\n",
    "pd.plotting.register_matplotlib_converters()\n",
    "import matplotlib.pyplot as plt\n",
    "%matplotlib inline\n",
    "import seaborn as sns\n",
    "print(\"Setup Complete\")"
   ]
  },
  {
   "cell_type": "markdown",
   "id": "2937ba7e",
   "metadata": {
    "papermill": {
     "duration": 0.008097,
     "end_time": "2022-11-15T00:38:49.313945",
     "exception": false,
     "start_time": "2022-11-15T00:38:49.305848",
     "status": "completed"
    },
    "tags": []
   },
   "source": [
    "The questions below will give you feedback on your work. Run the following cell to set up our feedback system."
   ]
  },
  {
   "cell_type": "code",
   "execution_count": 2,
   "id": "65aa9d16",
   "metadata": {
    "execution": {
     "iopub.execute_input": "2022-11-15T00:38:49.332572Z",
     "iopub.status.busy": "2022-11-15T00:38:49.332168Z",
     "iopub.status.idle": "2022-11-15T00:38:49.416988Z",
     "shell.execute_reply": "2022-11-15T00:38:49.415495Z"
    },
    "papermill": {
     "duration": 0.097219,
     "end_time": "2022-11-15T00:38:49.419646",
     "exception": false,
     "start_time": "2022-11-15T00:38:49.322427",
     "status": "completed"
    },
    "tags": []
   },
   "outputs": [
    {
     "name": "stdout",
     "output_type": "stream",
     "text": [
      "Setup Complete\n"
     ]
    }
   ],
   "source": [
    "# Set up code checking\n",
    "import os\n",
    "if not os.path.exists(\"../input/candy.csv\"):\n",
    "    os.symlink(\"../input/data-for-datavis/candy.csv\", \"../input/candy.csv\") \n",
    "from learntools.core import binder\n",
    "binder.bind(globals())\n",
    "from learntools.data_viz_to_coder.ex4 import *\n",
    "print(\"Setup Complete\")"
   ]
  },
  {
   "cell_type": "markdown",
   "id": "efa9d0aa",
   "metadata": {
    "papermill": {
     "duration": 0.008355,
     "end_time": "2022-11-15T00:38:49.439054",
     "exception": false,
     "start_time": "2022-11-15T00:38:49.430699",
     "status": "completed"
    },
    "tags": []
   },
   "source": [
    "## Step 1: Load the Data\n",
    "\n",
    "Read the candy data file into `candy_data`.  Use the `\"id\"` column to label the rows."
   ]
  },
  {
   "cell_type": "code",
   "execution_count": 3,
   "id": "52a6b6dc",
   "metadata": {
    "execution": {
     "iopub.execute_input": "2022-11-15T00:38:49.458761Z",
     "iopub.status.busy": "2022-11-15T00:38:49.458355Z",
     "iopub.status.idle": "2022-11-15T00:38:49.476205Z",
     "shell.execute_reply": "2022-11-15T00:38:49.474730Z"
    },
    "papermill": {
     "duration": 0.030927,
     "end_time": "2022-11-15T00:38:49.478655",
     "exception": false,
     "start_time": "2022-11-15T00:38:49.447728",
     "status": "completed"
    },
    "tags": []
   },
   "outputs": [
    {
     "data": {
      "application/javascript": [
       "parent.postMessage({\"jupyterEvent\": \"custom.exercise_interaction\", \"data\": {\"outcomeType\": 1, \"valueTowardsCompletion\": 0.3333333333333333, \"interactionType\": 1, \"questionType\": 1, \"questionId\": \"1_LoadData\", \"learnToolsVersion\": \"0.3.4\", \"failureMessage\": \"\", \"exceptionClass\": \"\", \"trace\": \"\"}}, \"*\")"
      ],
      "text/plain": [
       "<IPython.core.display.Javascript object>"
      ]
     },
     "metadata": {},
     "output_type": "display_data"
    },
    {
     "data": {
      "text/markdown": [
       "<span style=\"color:#33cc33\">Correct</span>"
      ],
      "text/plain": [
       "Correct"
      ]
     },
     "metadata": {},
     "output_type": "display_data"
    }
   ],
   "source": [
    "# Path of the file to read\n",
    "candy_filepath = \"../input/candy.csv\"\n",
    "\n",
    "# Fill in the line below to read the file into a variable candy_data\n",
    "candy_data = pd.read_csv(candy_filepath,index_col=\"id\")\n",
    "\n",
    "# Run the line below with no changes to check that you've loaded the data correctly\n",
    "step_1.check()"
   ]
  },
  {
   "cell_type": "code",
   "execution_count": 4,
   "id": "224d5c68",
   "metadata": {
    "execution": {
     "iopub.execute_input": "2022-11-15T00:38:49.499707Z",
     "iopub.status.busy": "2022-11-15T00:38:49.498899Z",
     "iopub.status.idle": "2022-11-15T00:38:49.504402Z",
     "shell.execute_reply": "2022-11-15T00:38:49.502972Z"
    },
    "papermill": {
     "duration": 0.019266,
     "end_time": "2022-11-15T00:38:49.507091",
     "exception": false,
     "start_time": "2022-11-15T00:38:49.487825",
     "status": "completed"
    },
    "tags": []
   },
   "outputs": [],
   "source": [
    "# Lines below will give you a hint or solution code\n",
    "#step_1.hint()\n",
    "#step_1.solution()"
   ]
  },
  {
   "cell_type": "markdown",
   "id": "13250299",
   "metadata": {
    "papermill": {
     "duration": 0.009747,
     "end_time": "2022-11-15T00:38:49.526957",
     "exception": false,
     "start_time": "2022-11-15T00:38:49.517210",
     "status": "completed"
    },
    "tags": []
   },
   "source": [
    "## Step 2: Review the data\n",
    "\n",
    "Use a Python command to print the first five rows of the data."
   ]
  },
  {
   "cell_type": "code",
   "execution_count": 5,
   "id": "93e5f6f7",
   "metadata": {
    "execution": {
     "iopub.execute_input": "2022-11-15T00:38:49.548875Z",
     "iopub.status.busy": "2022-11-15T00:38:49.548476Z",
     "iopub.status.idle": "2022-11-15T00:38:49.576420Z",
     "shell.execute_reply": "2022-11-15T00:38:49.574616Z"
    },
    "papermill": {
     "duration": 0.042411,
     "end_time": "2022-11-15T00:38:49.579432",
     "exception": false,
     "start_time": "2022-11-15T00:38:49.537021",
     "status": "completed"
    },
    "tags": []
   },
   "outputs": [
    {
     "data": {
      "text/html": [
       "<div>\n",
       "<style scoped>\n",
       "    .dataframe tbody tr th:only-of-type {\n",
       "        vertical-align: middle;\n",
       "    }\n",
       "\n",
       "    .dataframe tbody tr th {\n",
       "        vertical-align: top;\n",
       "    }\n",
       "\n",
       "    .dataframe thead th {\n",
       "        text-align: right;\n",
       "    }\n",
       "</style>\n",
       "<table border=\"1\" class=\"dataframe\">\n",
       "  <thead>\n",
       "    <tr style=\"text-align: right;\">\n",
       "      <th></th>\n",
       "      <th>competitorname</th>\n",
       "      <th>chocolate</th>\n",
       "      <th>fruity</th>\n",
       "      <th>caramel</th>\n",
       "      <th>peanutyalmondy</th>\n",
       "      <th>nougat</th>\n",
       "      <th>crispedricewafer</th>\n",
       "      <th>hard</th>\n",
       "      <th>bar</th>\n",
       "      <th>pluribus</th>\n",
       "      <th>sugarpercent</th>\n",
       "      <th>pricepercent</th>\n",
       "      <th>winpercent</th>\n",
       "    </tr>\n",
       "    <tr>\n",
       "      <th>id</th>\n",
       "      <th></th>\n",
       "      <th></th>\n",
       "      <th></th>\n",
       "      <th></th>\n",
       "      <th></th>\n",
       "      <th></th>\n",
       "      <th></th>\n",
       "      <th></th>\n",
       "      <th></th>\n",
       "      <th></th>\n",
       "      <th></th>\n",
       "      <th></th>\n",
       "      <th></th>\n",
       "    </tr>\n",
       "  </thead>\n",
       "  <tbody>\n",
       "    <tr>\n",
       "      <th>0</th>\n",
       "      <td>100 Grand</td>\n",
       "      <td>Yes</td>\n",
       "      <td>No</td>\n",
       "      <td>Yes</td>\n",
       "      <td>No</td>\n",
       "      <td>No</td>\n",
       "      <td>Yes</td>\n",
       "      <td>No</td>\n",
       "      <td>Yes</td>\n",
       "      <td>No</td>\n",
       "      <td>0.732</td>\n",
       "      <td>0.860</td>\n",
       "      <td>66.971725</td>\n",
       "    </tr>\n",
       "    <tr>\n",
       "      <th>1</th>\n",
       "      <td>3 Musketeers</td>\n",
       "      <td>Yes</td>\n",
       "      <td>No</td>\n",
       "      <td>No</td>\n",
       "      <td>No</td>\n",
       "      <td>Yes</td>\n",
       "      <td>No</td>\n",
       "      <td>No</td>\n",
       "      <td>Yes</td>\n",
       "      <td>No</td>\n",
       "      <td>0.604</td>\n",
       "      <td>0.511</td>\n",
       "      <td>67.602936</td>\n",
       "    </tr>\n",
       "    <tr>\n",
       "      <th>2</th>\n",
       "      <td>Air Heads</td>\n",
       "      <td>No</td>\n",
       "      <td>Yes</td>\n",
       "      <td>No</td>\n",
       "      <td>No</td>\n",
       "      <td>No</td>\n",
       "      <td>No</td>\n",
       "      <td>No</td>\n",
       "      <td>No</td>\n",
       "      <td>No</td>\n",
       "      <td>0.906</td>\n",
       "      <td>0.511</td>\n",
       "      <td>52.341465</td>\n",
       "    </tr>\n",
       "    <tr>\n",
       "      <th>3</th>\n",
       "      <td>Almond Joy</td>\n",
       "      <td>Yes</td>\n",
       "      <td>No</td>\n",
       "      <td>No</td>\n",
       "      <td>Yes</td>\n",
       "      <td>No</td>\n",
       "      <td>No</td>\n",
       "      <td>No</td>\n",
       "      <td>Yes</td>\n",
       "      <td>No</td>\n",
       "      <td>0.465</td>\n",
       "      <td>0.767</td>\n",
       "      <td>50.347546</td>\n",
       "    </tr>\n",
       "    <tr>\n",
       "      <th>4</th>\n",
       "      <td>Baby Ruth</td>\n",
       "      <td>Yes</td>\n",
       "      <td>No</td>\n",
       "      <td>Yes</td>\n",
       "      <td>Yes</td>\n",
       "      <td>Yes</td>\n",
       "      <td>No</td>\n",
       "      <td>No</td>\n",
       "      <td>Yes</td>\n",
       "      <td>No</td>\n",
       "      <td>0.604</td>\n",
       "      <td>0.767</td>\n",
       "      <td>56.914547</td>\n",
       "    </tr>\n",
       "  </tbody>\n",
       "</table>\n",
       "</div>"
      ],
      "text/plain": [
       "   competitorname chocolate fruity caramel peanutyalmondy nougat  \\\n",
       "id                                                                 \n",
       "0       100 Grand       Yes     No     Yes             No     No   \n",
       "1    3 Musketeers       Yes     No      No             No    Yes   \n",
       "2       Air Heads        No    Yes      No             No     No   \n",
       "3      Almond Joy       Yes     No      No            Yes     No   \n",
       "4       Baby Ruth       Yes     No     Yes            Yes    Yes   \n",
       "\n",
       "   crispedricewafer hard  bar pluribus  sugarpercent  pricepercent  winpercent  \n",
       "id                                                                              \n",
       "0               Yes   No  Yes       No         0.732         0.860   66.971725  \n",
       "1                No   No  Yes       No         0.604         0.511   67.602936  \n",
       "2                No   No   No       No         0.906         0.511   52.341465  \n",
       "3                No   No  Yes       No         0.465         0.767   50.347546  \n",
       "4                No   No  Yes       No         0.604         0.767   56.914547  "
      ]
     },
     "execution_count": 5,
     "metadata": {},
     "output_type": "execute_result"
    }
   ],
   "source": [
    "# Print the first five rows of the data\n",
    "candy_data.head()"
   ]
  },
  {
   "cell_type": "markdown",
   "id": "22b4a1cf",
   "metadata": {
    "papermill": {
     "duration": 0.009775,
     "end_time": "2022-11-15T00:38:49.599368",
     "exception": false,
     "start_time": "2022-11-15T00:38:49.589593",
     "status": "completed"
    },
    "tags": []
   },
   "source": [
    "The dataset contains 83 rows, where each corresponds to a different candy bar.  There are 13 columns:\n",
    "- `'competitorname'` contains the name of the candy bar. \n",
    "- the next **9** columns (from `'chocolate'` to `'pluribus'`) describe the candy.  For instance, rows with chocolate candies have `\"Yes\"` in the `'chocolate'` column (and candies without chocolate have `\"No\"` in the same column).\n",
    "- `'sugarpercent'` provides some indication of the amount of sugar, where higher values signify higher sugar content.\n",
    "- `'pricepercent'` shows the price per unit, relative to the other candies in the dataset.\n",
    "- `'winpercent'` is calculated from the survey results; higher values indicate that the candy was more popular with survey respondents.\n",
    "\n",
    "Use the first five rows of the data to answer the questions below."
   ]
  },
  {
   "cell_type": "code",
   "execution_count": 6,
   "id": "5fbd4d58",
   "metadata": {
    "execution": {
     "iopub.execute_input": "2022-11-15T00:38:49.620282Z",
     "iopub.status.busy": "2022-11-15T00:38:49.619803Z",
     "iopub.status.idle": "2022-11-15T00:38:49.629551Z",
     "shell.execute_reply": "2022-11-15T00:38:49.628342Z"
    },
    "papermill": {
     "duration": 0.022709,
     "end_time": "2022-11-15T00:38:49.631803",
     "exception": false,
     "start_time": "2022-11-15T00:38:49.609094",
     "status": "completed"
    },
    "tags": []
   },
   "outputs": [
    {
     "data": {
      "application/javascript": [
       "parent.postMessage({\"jupyterEvent\": \"custom.exercise_interaction\", \"data\": {\"outcomeType\": 1, \"valueTowardsCompletion\": 0.3333333333333333, \"interactionType\": 1, \"questionType\": 1, \"questionId\": \"2_ReviewData\", \"learnToolsVersion\": \"0.3.4\", \"failureMessage\": \"\", \"exceptionClass\": \"\", \"trace\": \"\"}}, \"*\")"
      ],
      "text/plain": [
       "<IPython.core.display.Javascript object>"
      ]
     },
     "metadata": {},
     "output_type": "display_data"
    },
    {
     "data": {
      "text/markdown": [
       "<span style=\"color:#33cc33\">Correct</span>"
      ],
      "text/plain": [
       "Correct"
      ]
     },
     "metadata": {},
     "output_type": "display_data"
    }
   ],
   "source": [
    "# Fill in the line below: Which candy was more popular with survey respondents:\n",
    "# '3 Musketeers' or 'Almond Joy'?  (Please enclose your answer in single quotes.)\n",
    "more_popular = '3 Musketeers'\n",
    "\n",
    "# Fill in the line below: Which candy has higher sugar content: 'Air Heads'\n",
    "# or 'Baby Ruth'? (Please enclose your answer in single quotes.)\n",
    "more_sugar = 'Air Heads'\n",
    "\n",
    "# Check your answers\n",
    "step_2.check()"
   ]
  },
  {
   "cell_type": "code",
   "execution_count": 7,
   "id": "48c5621a",
   "metadata": {
    "execution": {
     "iopub.execute_input": "2022-11-15T00:38:49.653581Z",
     "iopub.status.busy": "2022-11-15T00:38:49.653151Z",
     "iopub.status.idle": "2022-11-15T00:38:49.657699Z",
     "shell.execute_reply": "2022-11-15T00:38:49.656850Z"
    },
    "papermill": {
     "duration": 0.018582,
     "end_time": "2022-11-15T00:38:49.660059",
     "exception": false,
     "start_time": "2022-11-15T00:38:49.641477",
     "status": "completed"
    },
    "tags": []
   },
   "outputs": [],
   "source": [
    "# Lines below will give you a hint or solution code\n",
    "#step_2.hint()\n",
    "#step_2.solution()"
   ]
  },
  {
   "cell_type": "markdown",
   "id": "76133a2b",
   "metadata": {
    "papermill": {
     "duration": 0.009296,
     "end_time": "2022-11-15T00:38:49.679835",
     "exception": false,
     "start_time": "2022-11-15T00:38:49.670539",
     "status": "completed"
    },
    "tags": []
   },
   "source": [
    "## Step 3: The role of sugar\n",
    "\n",
    "Do people tend to prefer candies with higher sugar content?  \n",
    "\n",
    "#### Part A\n",
    "\n",
    "Create a scatter plot that shows the relationship between `'sugarpercent'` (on the horizontal x-axis) and `'winpercent'` (on the vertical y-axis).  _Don't add a regression line just yet -- you'll do that in the next step!_"
   ]
  },
  {
   "cell_type": "code",
   "execution_count": 8,
   "id": "ab89a986",
   "metadata": {
    "execution": {
     "iopub.execute_input": "2022-11-15T00:38:49.701882Z",
     "iopub.status.busy": "2022-11-15T00:38:49.701447Z",
     "iopub.status.idle": "2022-11-15T00:38:49.975630Z",
     "shell.execute_reply": "2022-11-15T00:38:49.974331Z"
    },
    "papermill": {
     "duration": 0.28784,
     "end_time": "2022-11-15T00:38:49.978257",
     "exception": false,
     "start_time": "2022-11-15T00:38:49.690417",
     "status": "completed"
    },
    "tags": []
   },
   "outputs": [
    {
     "data": {
      "application/javascript": [
       "parent.postMessage({\"jupyterEvent\": \"custom.exercise_interaction\", \"data\": {\"outcomeType\": 1, \"valueTowardsCompletion\": 0.3333333333333333, \"interactionType\": 1, \"questionType\": 2, \"questionId\": \"3.1_PlotBlueScatter\", \"learnToolsVersion\": \"0.3.4\", \"failureMessage\": \"\", \"exceptionClass\": \"\", \"trace\": \"\"}}, \"*\")"
      ],
      "text/plain": [
       "<IPython.core.display.Javascript object>"
      ]
     },
     "metadata": {},
     "output_type": "display_data"
    },
    {
     "data": {
      "text/markdown": [
       "<span style=\"color:#33cc33\">Correct</span>"
      ],
      "text/plain": [
       "Correct"
      ]
     },
     "metadata": {},
     "output_type": "display_data"
    },
    {
     "data": {
      "image/png": "[encoded data removed]",
      "text/plain": [
       "<Figure size 432x288 with 1 Axes>"
      ]
     },
     "metadata": {
      "needs_background": "light"
     },
     "output_type": "display_data"
    }
   ],
   "source": [
    "# Scatter plot showing the relationship between 'sugarpercent' and 'winpercent'\n",
    "sns.scatterplot(x='sugarpercent',y='winpercent',data=candy_data)\n",
    "\n",
    "# Check your answer\n",
    "step_3.a.check()"
   ]
  },
  {
   "cell_type": "code",
   "execution_count": 9,
   "id": "334f210a",
   "metadata": {
    "execution": {
     "iopub.execute_input": "2022-11-15T00:38:50.000887Z",
     "iopub.status.busy": "2022-11-15T00:38:50.000478Z",
     "iopub.status.idle": "2022-11-15T00:38:50.005583Z",
     "shell.execute_reply": "2022-11-15T00:38:50.003895Z"
    },
    "papermill": {
     "duration": 0.019703,
     "end_time": "2022-11-15T00:38:50.008274",
     "exception": false,
     "start_time": "2022-11-15T00:38:49.988571",
     "status": "completed"
    },
    "tags": []
   },
   "outputs": [],
   "source": [
    "# Lines below will give you a hint or solution code\n",
    "#step_3.a.hint()\n",
    "#step_3.a.solution_plot()"
   ]
  },
  {
   "cell_type": "markdown",
   "id": "e926a0f0",
   "metadata": {
    "papermill": {
     "duration": 0.009651,
     "end_time": "2022-11-15T00:38:50.028058",
     "exception": false,
     "start_time": "2022-11-15T00:38:50.018407",
     "status": "completed"
    },
    "tags": []
   },
   "source": [
    "#### Part B\n",
    "\n",
    "Does the scatter plot show a **strong** correlation between the two variables?  If so, are candies with more sugar relatively more or less popular with the survey respondents?"
   ]
  },
  {
   "cell_type": "code",
   "execution_count": 10,
   "id": "7a09f16f",
   "metadata": {
    "execution": {
     "iopub.execute_input": "2022-11-15T00:38:50.050410Z",
     "iopub.status.busy": "2022-11-15T00:38:50.049996Z",
     "iopub.status.idle": "2022-11-15T00:38:50.054518Z",
     "shell.execute_reply": "2022-11-15T00:38:50.053459Z"
    },
    "papermill": {
     "duration": 0.01869,
     "end_time": "2022-11-15T00:38:50.056864",
     "exception": false,
     "start_time": "2022-11-15T00:38:50.038174",
     "status": "completed"
    },
    "tags": []
   },
   "outputs": [],
   "source": [
    "#step_3.b.hint()"
   ]
  },
  {
   "cell_type": "code",
   "execution_count": 11,
   "id": "f29ca886",
   "metadata": {
    "execution": {
     "iopub.execute_input": "2022-11-15T00:38:50.078866Z",
     "iopub.status.busy": "2022-11-15T00:38:50.078449Z",
     "iopub.status.idle": "2022-11-15T00:38:50.087418Z",
     "shell.execute_reply": "2022-11-15T00:38:50.086212Z"
    },
    "papermill": {
     "duration": 0.022812,
     "end_time": "2022-11-15T00:38:50.089770",
     "exception": false,
     "start_time": "2022-11-15T00:38:50.066958",
     "status": "completed"
    },
    "tags": []
   },
   "outputs": [
    {
     "data": {
      "application/javascript": [
       "parent.postMessage({\"jupyterEvent\": \"custom.exercise_interaction\", \"data\": {\"interactionType\": 3, \"questionType\": 4, \"questionId\": \"3.2_ThinkBlueScatter\", \"learnToolsVersion\": \"0.3.4\", \"valueTowardsCompletion\": 0.0, \"failureMessage\": \"\", \"exceptionClass\": \"\", \"trace\": \"\", \"outcomeType\": 4}}, \"*\")"
      ],
      "text/plain": [
       "<IPython.core.display.Javascript object>"
      ]
     },
     "metadata": {},
     "output_type": "display_data"
    },
    {
     "data": {
      "text/markdown": [
       "<span style=\"color:#33cc99\">Solution:</span> The scatter plot does not show a strong correlation between the two variables. Since there is no clear relationship between the two variables, this tells us that sugar content does not play a strong role in candy popularity."
      ],
      "text/plain": [
       "Solution: The scatter plot does not show a strong correlation between the two variables. Since there is no clear relationship between the two variables, this tells us that sugar content does not play a strong role in candy popularity."
      ]
     },
     "metadata": {},
     "output_type": "display_data"
    }
   ],
   "source": [
    "# Check your answer (Run this code cell to receive credit!)\n",
    "step_3.b.solution()"
   ]
  },
  {
   "cell_type": "markdown",
   "id": "eb1d39f6",
   "metadata": {
    "papermill": {
     "duration": 0.010071,
     "end_time": "2022-11-15T00:38:50.110762",
     "exception": false,
     "start_time": "2022-11-15T00:38:50.100691",
     "status": "completed"
    },
    "tags": []
   },
   "source": [
    "## Step 4: Take a closer look\n",
    "\n",
    "#### Part A\n",
    "\n",
    "Create the same scatter plot you created in **Step 3**, but now with a regression line!"
   ]
  },
  {
   "cell_type": "code",
   "execution_count": 12,
   "id": "2c344470",
   "metadata": {
    "execution": {
     "iopub.execute_input": "2022-11-15T00:38:50.133406Z",
     "iopub.status.busy": "2022-11-15T00:38:50.133009Z",
     "iopub.status.idle": "2022-11-15T00:38:50.473582Z",
     "shell.execute_reply": "2022-11-15T00:38:50.472344Z"
    },
    "papermill": {
     "duration": 0.354511,
     "end_time": "2022-11-15T00:38:50.476030",
     "exception": false,
     "start_time": "2022-11-15T00:38:50.121519",
     "status": "completed"
    },
    "tags": []
   },
   "outputs": [
    {
     "data": {
      "application/javascript": [
       "parent.postMessage({\"jupyterEvent\": \"custom.exercise_interaction\", \"data\": {\"outcomeType\": 1, \"valueTowardsCompletion\": 0.3333333333333333, \"interactionType\": 1, \"questionType\": 2, \"questionId\": \"4.1_PlotBlueReg\", \"learnToolsVersion\": \"0.3.4\", \"failureMessage\": \"\", \"exceptionClass\": \"\", \"trace\": \"\"}}, \"*\")"
      ],
      "text/plain": [
       "<IPython.core.display.Javascript object>"
      ]
     },
     "metadata": {},
     "output_type": "display_data"
    },
    {
     "data": {
      "text/markdown": [
       "<span style=\"color:#33cc33\">Correct</span>"
      ],
      "text/plain": [
       "Correct"
      ]
     },
     "metadata": {},
     "output_type": "display_data"
    },
    {
     "data": {
      "image/png": "[encoded data removed]",
      "text/plain": [
       "<Figure size 432x288 with 1 Axes>"
      ]
     },
     "metadata": {
      "needs_background": "light"
     },
     "output_type": "display_data"
    }
   ],
   "source": [
    "# Scatter plot w/ regression line showing the relationship between 'sugarpercent' and 'winpercent'\n",
    "sns.regplot(x='sugarpercent',y='winpercent',data=candy_data)\n",
    "# Check your answer\n",
    "step_4.a.check()"
   ]
  },
  {
   "cell_type": "code",
   "execution_count": 13,
   "id": "c0c04fda",
   "metadata": {
    "execution": {
     "iopub.execute_input": "2022-11-15T00:38:50.499573Z",
     "iopub.status.busy": "2022-11-15T00:38:50.498898Z",
     "iopub.status.idle": "2022-11-15T00:38:50.841394Z",
     "shell.execute_reply": "2022-11-15T00:38:50.840458Z"
    },
    "papermill": {
     "duration": 0.357086,
     "end_time": "2022-11-15T00:38:50.843928",
     "exception": false,
     "start_time": "2022-11-15T00:38:50.486842",
     "status": "completed"
    },
    "tags": []
   },
   "outputs": [
    {
     "data": {
      "application/javascript": [
       "parent.postMessage({\"jupyterEvent\": \"custom.exercise_interaction\", \"data\": {\"interactionType\": 3, \"questionType\": 2, \"questionId\": \"4.1_PlotBlueReg\", \"learnToolsVersion\": \"0.3.4\", \"valueTowardsCompletion\": 0.0, \"failureMessage\": \"\", \"exceptionClass\": \"\", \"trace\": \"\", \"outcomeType\": 4}}, \"*\")"
      ],
      "text/plain": [
       "<IPython.core.display.Javascript object>"
      ]
     },
     "metadata": {},
     "output_type": "display_data"
    },
    {
     "data": {
      "text/markdown": [
       "<span style=\"color:#33cc99\">Solution:</span> \n",
       "```python\n",
       "# Scatter plot w/ regression line showing the relationship between 'sugarpercent' and 'winpercent'\n",
       "sns.regplot(x=candy_data['sugarpercent'], y=candy_data['winpercent'])\n",
       "\n",
       "```"
      ],
      "text/plain": [
       "Solution: \n",
       "```python\n",
       "# Scatter plot w/ regression line showing the relationship between 'sugarpercent' and 'winpercent'\n",
       "sns.regplot(x=candy_data['sugarpercent'], y=candy_data['winpercent'])\n",
       "\n",
       "```"
      ]
     },
     "metadata": {},
     "output_type": "display_data"
    },
    {
     "data": {
      "image/png": "[encoded data removed]",
      "text/plain": [
       "<Figure size 432x288 with 1 Axes>"
      ]
     },
     "metadata": {
      "needs_background": "light"
     },
     "output_type": "display_data"
    }
   ],
   "source": [
    "# Lines below will give you a hint or solution code\n",
    "#step_4.a.hint()\n",
    "step_4.a.solution_plot()"
   ]
  },
  {
   "cell_type": "markdown",
   "id": "b6abc788",
   "metadata": {
    "papermill": {
     "duration": 0.011178,
     "end_time": "2022-11-15T00:38:50.866160",
     "exception": false,
     "start_time": "2022-11-15T00:38:50.854982",
     "status": "completed"
    },
    "tags": []
   },
   "source": [
    "#### Part B\n",
    "\n",
    "According to the plot above, is there a **slight** correlation between `'winpercent'` and `'sugarpercent'`?  What does this tell you about the candy that people tend to prefer?"
   ]
  },
  {
   "cell_type": "code",
   "execution_count": 14,
   "id": "72c85a45",
   "metadata": {
    "execution": {
     "iopub.execute_input": "2022-11-15T00:38:50.889972Z",
     "iopub.status.busy": "2022-11-15T00:38:50.889572Z",
     "iopub.status.idle": "2022-11-15T00:38:50.893842Z",
     "shell.execute_reply": "2022-11-15T00:38:50.893087Z"
    },
    "papermill": {
     "duration": 0.018592,
     "end_time": "2022-11-15T00:38:50.895809",
     "exception": false,
     "start_time": "2022-11-15T00:38:50.877217",
     "status": "completed"
    },
    "tags": []
   },
   "outputs": [],
   "source": [
    "#step_4.b.hint()"
   ]
  },
  {
   "cell_type": "code",
   "execution_count": 15,
   "id": "5132286d",
   "metadata": {
    "execution": {
     "iopub.execute_input": "2022-11-15T00:38:50.919968Z",
     "iopub.status.busy": "2022-11-15T00:38:50.918847Z",
     "iopub.status.idle": "2022-11-15T00:38:50.927913Z",
     "shell.execute_reply": "2022-11-15T00:38:50.926837Z"
    },
    "papermill": {
     "duration": 0.023351,
     "end_time": "2022-11-15T00:38:50.930110",
     "exception": false,
     "start_time": "2022-11-15T00:38:50.906759",
     "status": "completed"
    },
    "tags": []
   },
   "outputs": [
    {
     "data": {
      "application/javascript": [
       "parent.postMessage({\"jupyterEvent\": \"custom.exercise_interaction\", \"data\": {\"interactionType\": 3, \"questionType\": 4, \"questionId\": \"4.2_ThinkBlueReg\", \"learnToolsVersion\": \"0.3.4\", \"valueTowardsCompletion\": 0.0, \"failureMessage\": \"\", \"exceptionClass\": \"\", \"trace\": \"\", \"outcomeType\": 4}}, \"*\")"
      ],
      "text/plain": [
       "<IPython.core.display.Javascript object>"
      ]
     },
     "metadata": {},
     "output_type": "display_data"
    },
    {
     "data": {
      "text/markdown": [
       "<span style=\"color:#33cc99\">Solution:</span> Since the regression line has a slightly positive slope, this tells us that there is a slightly positive correlation between `'winpercent'` and `'sugarpercent'`. Thus, people have a slight preference for candies containing relatively more sugar."
      ],
      "text/plain": [
       "Solution: Since the regression line has a slightly positive slope, this tells us that there is a slightly positive correlation between `'winpercent'` and `'sugarpercent'`. Thus, people have a slight preference for candies containing relatively more sugar."
      ]
     },
     "metadata": {},
     "output_type": "display_data"
    }
   ],
   "source": [
    "# Check your answer (Run this code cell to receive credit!)\n",
    "step_4.b.solution()"
   ]
  },
  {
   "cell_type": "markdown",
   "id": "eb93972a",
   "metadata": {
    "papermill": {
     "duration": 0.011455,
     "end_time": "2022-11-15T00:38:50.952897",
     "exception": false,
     "start_time": "2022-11-15T00:38:50.941442",
     "status": "completed"
    },
    "tags": []
   },
   "source": [
    "## Step 5: Chocolate!\n",
    "\n",
    "In the code cell below, create a scatter plot to show the relationship between `'pricepercent'` (on the horizontal x-axis) and `'winpercent'` (on the vertical y-axis). Use the `'chocolate'` column to color-code the points.  _Don't add any regression lines just yet -- you'll do that in the next step!_"
   ]
  },
  {
   "cell_type": "code",
   "execution_count": 16,
   "id": "ce6702a5",
   "metadata": {
    "execution": {
     "iopub.execute_input": "2022-11-15T00:38:50.977420Z",
     "iopub.status.busy": "2022-11-15T00:38:50.977006Z",
     "iopub.status.idle": "2022-11-15T00:38:51.295051Z",
     "shell.execute_reply": "2022-11-15T00:38:51.293721Z"
    },
    "papermill": {
     "duration": 0.333543,
     "end_time": "2022-11-15T00:38:51.297762",
     "exception": false,
     "start_time": "2022-11-15T00:38:50.964219",
     "status": "completed"
    },
    "tags": []
   },
   "outputs": [
    {
     "data": {
      "application/javascript": [
       "parent.postMessage({\"jupyterEvent\": \"custom.exercise_interaction\", \"data\": {\"outcomeType\": 1, \"valueTowardsCompletion\": 0.3333333333333333, \"interactionType\": 1, \"questionType\": 2, \"questionId\": \"5_ColorScatter\", \"learnToolsVersion\": \"0.3.4\", \"failureMessage\": \"\", \"exceptionClass\": \"\", \"trace\": \"\"}}, \"*\")"
      ],
      "text/plain": [
       "<IPython.core.display.Javascript object>"
      ]
     },
     "metadata": {},
     "output_type": "display_data"
    },
    {
     "data": {
      "text/markdown": [
       "<span style=\"color:#33cc33\">Correct</span>"
      ],
      "text/plain": [
       "Correct"
      ]
     },
     "metadata": {},
     "output_type": "display_data"
    },
    {
     "data": {
      "image/png": "[encoded data removed]",
      "text/plain": [
       "<Figure size 432x288 with 1 Axes>"
      ]
     },
     "metadata": {
      "needs_background": "light"
     },
     "output_type": "display_data"
    }
   ],
   "source": [
    "# Scatter plot showing the relationship between 'pricepercent', 'winpercent', and 'chocolate'\n",
    "sns.scatterplot(x='sugarpercent',y='winpercent',data=candy_data,hue=\"chocolate\")\n",
    "\n",
    "# Check your answer\n",
    "step_5.check()"
   ]
  },
  {
   "cell_type": "code",
   "execution_count": 17,
   "id": "0f8dd871",
   "metadata": {
    "execution": {
     "iopub.execute_input": "2022-11-15T00:38:51.323877Z",
     "iopub.status.busy": "2022-11-15T00:38:51.323447Z",
     "iopub.status.idle": "2022-11-15T00:38:51.328103Z",
     "shell.execute_reply": "2022-11-15T00:38:51.326975Z"
    },
    "papermill": {
     "duration": 0.020399,
     "end_time": "2022-11-15T00:38:51.330371",
     "exception": false,
     "start_time": "2022-11-15T00:38:51.309972",
     "status": "completed"
    },
    "tags": []
   },
   "outputs": [],
   "source": [
    "# Lines below will give you a hint or solution code\n",
    "#step_5.hint()\n",
    "#step_5.solution_plot()"
   ]
  },
  {
   "cell_type": "markdown",
   "id": "70dc3a28",
   "metadata": {
    "papermill": {
     "duration": 0.012165,
     "end_time": "2022-11-15T00:38:51.354628",
     "exception": false,
     "start_time": "2022-11-15T00:38:51.342463",
     "status": "completed"
    },
    "tags": []
   },
   "source": [
    "Can you see any interesting patterns in the scatter plot?  We'll investigate this plot further  by adding regression lines in the next step!\n",
    "\n",
    "## Step 6: Investigate chocolate\n",
    "\n",
    "#### Part A\n",
    "\n",
    "Create the same scatter plot you created in **Step 5**, but now with two regression lines, corresponding to (1) chocolate candies and (2) candies without chocolate."
   ]
  },
  {
   "cell_type": "code",
   "execution_count": 18,
   "id": "27b801bc",
   "metadata": {
    "execution": {
     "iopub.execute_input": "2022-11-15T00:38:51.381020Z",
     "iopub.status.busy": "2022-11-15T00:38:51.380636Z",
     "iopub.status.idle": "2022-11-15T00:38:52.052160Z",
     "shell.execute_reply": "2022-11-15T00:38:52.051075Z"
    },
    "papermill": {
     "duration": 0.688049,
     "end_time": "2022-11-15T00:38:52.054691",
     "exception": false,
     "start_time": "2022-11-15T00:38:51.366642",
     "status": "completed"
    },
    "tags": []
   },
   "outputs": [
    {
     "data": {
      "application/javascript": [
       "parent.postMessage({\"jupyterEvent\": \"custom.exercise_interaction\", \"data\": {\"outcomeType\": 1, \"valueTowardsCompletion\": 0.3333333333333333, \"interactionType\": 1, \"questionType\": 2, \"questionId\": \"6.1_PlotColorReg\", \"learnToolsVersion\": \"0.3.4\", \"failureMessage\": \"\", \"exceptionClass\": \"\", \"trace\": \"\"}}, \"*\")"
      ],
      "text/plain": [
       "<IPython.core.display.Javascript object>"
      ]
     },
     "metadata": {},
     "output_type": "display_data"
    },
    {
     "data": {
      "text/markdown": [
       "<span style=\"color:#33cc33\">Correct</span>"
      ],
      "text/plain": [
       "Correct"
      ]
     },
     "metadata": {},
     "output_type": "display_data"
    },
    {
     "data": {
      "image/png": "[encoded data removed]",
      "text/plain": [
       "<Figure size 416.375x360 with 1 Axes>"
      ]
     },
     "metadata": {
      "needs_background": "light"
     },
     "output_type": "display_data"
    }
   ],
   "source": [
    "# Color-coded scatter plot w/ regression lines\n",
    "sns.lmplot(x='sugarpercent',y='winpercent',data=candy_data,hue=\"chocolate\")\n",
    "\n",
    "# Check your answer\n",
    "step_6.a.check()"
   ]
  },
  {
   "cell_type": "code",
   "execution_count": 19,
   "id": "9f38a0f1",
   "metadata": {
    "execution": {
     "iopub.execute_input": "2022-11-15T00:38:52.082117Z",
     "iopub.status.busy": "2022-11-15T00:38:52.081531Z",
     "iopub.status.idle": "2022-11-15T00:38:52.714967Z",
     "shell.execute_reply": "2022-11-15T00:38:52.713816Z"
    },
    "papermill": {
     "duration": 0.650465,
     "end_time": "2022-11-15T00:38:52.717842",
     "exception": false,
     "start_time": "2022-11-15T00:38:52.067377",
     "status": "completed"
    },
    "tags": []
   },
   "outputs": [
    {
     "data": {
      "application/javascript": [
       "parent.postMessage({\"jupyterEvent\": \"custom.exercise_interaction\", \"data\": {\"interactionType\": 3, \"questionType\": 2, \"questionId\": \"6.1_PlotColorReg\", \"learnToolsVersion\": \"0.3.4\", \"valueTowardsCompletion\": 0.0, \"failureMessage\": \"\", \"exceptionClass\": \"\", \"trace\": \"\", \"outcomeType\": 4}}, \"*\")"
      ],
      "text/plain": [
       "<IPython.core.display.Javascript object>"
      ]
     },
     "metadata": {},
     "output_type": "display_data"
    },
    {
     "data": {
      "text/markdown": [
       "<span style=\"color:#33cc99\">Solution:</span> \n",
       "```python\n",
       "# Color-coded scatter plot w/ regression lines\n",
       "sns.lmplot(x=\"pricepercent\", y=\"winpercent\", hue=\"chocolate\", data=candy_data)\n",
       "\n",
       "```"
      ],
      "text/plain": [
       "Solution: \n",
       "```python\n",
       "# Color-coded scatter plot w/ regression lines\n",
       "sns.lmplot(x=\"pricepercent\", y=\"winpercent\", hue=\"chocolate\", data=candy_data)\n",
       "\n",
       "```"
      ]
     },
     "metadata": {},
     "output_type": "display_data"
    },
    {
     "data": {
      "image/png": "[encoded data removed]",
      "text/plain": [
       "<Figure size 416.375x360 with 1 Axes>"
      ]
     },
     "metadata": {
      "needs_background": "light"
     },
     "output_type": "display_data"
    }
   ],
   "source": [
    "# Lines below will give you a hint or solution code\n",
    "#step_6.a.hint()\n",
    "\n",
    "step_6.a.solution_plot()"
   ]
  },
  {
   "cell_type": "markdown",
   "id": "5ead25ce",
   "metadata": {
    "papermill": {
     "duration": 0.013277,
     "end_time": "2022-11-15T00:38:52.744812",
     "exception": false,
     "start_time": "2022-11-15T00:38:52.731535",
     "status": "completed"
    },
    "tags": []
   },
   "source": [
    "#### Part B\n",
    "\n",
    "Using the regression lines, what conclusions can you draw about the effects of chocolate and price on candy popularity?"
   ]
  },
  {
   "cell_type": "code",
   "execution_count": 20,
   "id": "5304b48b",
   "metadata": {
    "execution": {
     "iopub.execute_input": "2022-11-15T00:38:52.773996Z",
     "iopub.status.busy": "2022-11-15T00:38:52.773570Z",
     "iopub.status.idle": "2022-11-15T00:38:52.778452Z",
     "shell.execute_reply": "2022-11-15T00:38:52.777368Z"
    },
    "papermill": {
     "duration": 0.022691,
     "end_time": "2022-11-15T00:38:52.781054",
     "exception": false,
     "start_time": "2022-11-15T00:38:52.758363",
     "status": "completed"
    },
    "tags": []
   },
   "outputs": [],
   "source": [
    "#step_6.b.hint()"
   ]
  },
  {
   "cell_type": "code",
   "execution_count": 21,
   "id": "f861bfa4",
   "metadata": {
    "execution": {
     "iopub.execute_input": "2022-11-15T00:38:52.811085Z",
     "iopub.status.busy": "2022-11-15T00:38:52.810683Z",
     "iopub.status.idle": "2022-11-15T00:38:52.819476Z",
     "shell.execute_reply": "2022-11-15T00:38:52.818331Z"
    },
    "papermill": {
     "duration": 0.026332,
     "end_time": "2022-11-15T00:38:52.821593",
     "exception": false,
     "start_time": "2022-11-15T00:38:52.795261",
     "status": "completed"
    },
    "tags": []
   },
   "outputs": [
    {
     "data": {
      "application/javascript": [
       "parent.postMessage({\"jupyterEvent\": \"custom.exercise_interaction\", \"data\": {\"interactionType\": 3, \"questionType\": 4, \"questionId\": \"6.2_ThinkColorReg\", \"learnToolsVersion\": \"0.3.4\", \"valueTowardsCompletion\": 0.0, \"failureMessage\": \"\", \"exceptionClass\": \"\", \"trace\": \"\", \"outcomeType\": 4}}, \"*\")"
      ],
      "text/plain": [
       "<IPython.core.display.Javascript object>"
      ]
     },
     "metadata": {},
     "output_type": "display_data"
    },
    {
     "data": {
      "text/markdown": [
       "<span style=\"color:#33cc99\">Solution:</span> We'll begin with the regression line for chocolate candies. Since this line has a slightly positive slope, we can say that more expensive chocolate candies tend to be more popular (than relatively cheaper chocolate candies).  Likewise, since the regression line for candies without chocolate has a negative slope, we can say that if candies don't contain chocolate, they tend to be more popular when they are cheaper.  One important note, however, is that the dataset is quite small -- so we shouldn't invest too much trust in these patterns!  To inspire more confidence in the results, we should add more candies to the dataset."
      ],
      "text/plain": [
       "Solution: We'll begin with the regression line for chocolate candies. Since this line has a slightly positive slope, we can say that more expensive chocolate candies tend to be more popular (than relatively cheaper chocolate candies).  Likewise, since the regression line for candies without chocolate has a negative slope, we can say that if candies don't contain chocolate, they tend to be more popular when they are cheaper.  One important note, however, is that the dataset is quite small -- so we shouldn't invest too much trust in these patterns!  To inspire more confidence in the results, we should add more candies to the dataset."
      ]
     },
     "metadata": {},
     "output_type": "display_data"
    }
   ],
   "source": [
    "# Check your answer (Run this code cell to receive credit!)\n",
    "step_6.b.solution()"
   ]
  },
  {
   "cell_type": "markdown",
   "id": "7020d667",
   "metadata": {
    "papermill": {
     "duration": 0.013275,
     "end_time": "2022-11-15T00:38:52.848587",
     "exception": false,
     "start_time": "2022-11-15T00:38:52.835312",
     "status": "completed"
    },
    "tags": []
   },
   "source": [
    "## Step 7: Everybody loves chocolate.\n",
    "\n",
    "#### Part A\n",
    "\n",
    "Create a categorical scatter plot to highlight the relationship between `'chocolate'` and `'winpercent'`.  Put `'chocolate'` on the (horizontal) x-axis, and `'winpercent'` on the (vertical) y-axis."
   ]
  },
  {
   "cell_type": "code",
   "execution_count": 22,
   "id": "b1c0b35c",
   "metadata": {
    "execution": {
     "iopub.execute_input": "2022-11-15T00:38:52.878764Z",
     "iopub.status.busy": "2022-11-15T00:38:52.877746Z",
     "iopub.status.idle": "2022-11-15T00:38:53.106991Z",
     "shell.execute_reply": "2022-11-15T00:38:53.105891Z"
    },
    "papermill": {
     "duration": 0.246628,
     "end_time": "2022-11-15T00:38:53.109451",
     "exception": false,
     "start_time": "2022-11-15T00:38:52.862823",
     "status": "completed"
    },
    "tags": []
   },
   "outputs": [
    {
     "data": {
      "application/javascript": [
       "parent.postMessage({\"jupyterEvent\": \"custom.exercise_interaction\", \"data\": {\"outcomeType\": 1, \"valueTowardsCompletion\": 0.3333333333333333, \"interactionType\": 1, \"questionType\": 2, \"questionId\": \"7.1_PlotSwarm\", \"learnToolsVersion\": \"0.3.4\", \"failureMessage\": \"\", \"exceptionClass\": \"\", \"trace\": \"\"}}, \"*\")"
      ],
      "text/plain": [
       "<IPython.core.display.Javascript object>"
      ]
     },
     "metadata": {},
     "output_type": "display_data"
    },
    {
     "data": {
      "text/markdown": [
       "<span style=\"color:#33cc33\">Correct</span>"
      ],
      "text/plain": [
       "Correct"
      ]
     },
     "metadata": {},
     "output_type": "display_data"
    },
    {
     "data": {
      "image/png": "[encoded data removed]",
      "text/plain": [
       "<Figure size 432x288 with 1 Axes>"
      ]
     },
     "metadata": {
      "needs_background": "light"
     },
     "output_type": "display_data"
    }
   ],
   "source": [
    "# Scatter plot showing the relationship between 'chocolate' and 'winpercent'\n",
    "\n",
    "sns.swarmplot(x='chocolate',y='winpercent',data=candy_data)\n",
    "# Check your answer\n",
    "step_7.a.check()"
   ]
  },
  {
   "cell_type": "code",
   "execution_count": 23,
   "id": "d518edfb",
   "metadata": {
    "execution": {
     "iopub.execute_input": "2022-11-15T00:38:53.141543Z",
     "iopub.status.busy": "2022-11-15T00:38:53.140512Z",
     "iopub.status.idle": "2022-11-15T00:38:53.145478Z",
     "shell.execute_reply": "2022-11-15T00:38:53.144452Z"
    },
    "papermill": {
     "duration": 0.023695,
     "end_time": "2022-11-15T00:38:53.147684",
     "exception": false,
     "start_time": "2022-11-15T00:38:53.123989",
     "status": "completed"
    },
    "tags": []
   },
   "outputs": [],
   "source": [
    "# Lines below will give you a hint or solution code\n",
    "#step_7.a.hint()\n",
    "#step_7.a.solution_plot()"
   ]
  },
  {
   "cell_type": "markdown",
   "id": "88414ed1",
   "metadata": {
    "papermill": {
     "duration": 0.013873,
     "end_time": "2022-11-15T00:38:53.175743",
     "exception": false,
     "start_time": "2022-11-15T00:38:53.161870",
     "status": "completed"
    },
    "tags": []
   },
   "source": [
    "#### Part B\n",
    "\n",
    "You decide to dedicate a section of your report to the fact that chocolate candies tend to be more popular than candies without chocolate.  Which plot is more appropriate to tell this story: the plot from **Step 6**, or the plot from **Step 7**?"
   ]
  },
  {
   "cell_type": "code",
   "execution_count": 24,
   "id": "2038defd",
   "metadata": {
    "execution": {
     "iopub.execute_input": "2022-11-15T00:38:53.207606Z",
     "iopub.status.busy": "2022-11-15T00:38:53.206486Z",
     "iopub.status.idle": "2022-11-15T00:38:53.210860Z",
     "shell.execute_reply": "2022-11-15T00:38:53.209996Z"
    },
    "papermill": {
     "duration": 0.022232,
     "end_time": "2022-11-15T00:38:53.213174",
     "exception": false,
     "start_time": "2022-11-15T00:38:53.190942",
     "status": "completed"
    },
    "tags": []
   },
   "outputs": [],
   "source": [
    "#step_7.b.hint()"
   ]
  },
  {
   "cell_type": "code",
   "execution_count": 25,
   "id": "b82423d4",
   "metadata": {
    "execution": {
     "iopub.execute_input": "2022-11-15T00:38:53.244271Z",
     "iopub.status.busy": "2022-11-15T00:38:53.243599Z",
     "iopub.status.idle": "2022-11-15T00:38:53.252386Z",
     "shell.execute_reply": "2022-11-15T00:38:53.251429Z"
    },
    "papermill": {
     "duration": 0.026665,
     "end_time": "2022-11-15T00:38:53.254501",
     "exception": false,
     "start_time": "2022-11-15T00:38:53.227836",
     "status": "completed"
    },
    "tags": []
   },
   "outputs": [
    {
     "data": {
      "application/javascript": [
       "parent.postMessage({\"jupyterEvent\": \"custom.exercise_interaction\", \"data\": {\"interactionType\": 3, \"questionType\": 4, \"questionId\": \"7.2_ThinkSwarm\", \"learnToolsVersion\": \"0.3.4\", \"valueTowardsCompletion\": 0.0, \"failureMessage\": \"\", \"exceptionClass\": \"\", \"trace\": \"\", \"outcomeType\": 4}}, \"*\")"
      ],
      "text/plain": [
       "<IPython.core.display.Javascript object>"
      ]
     },
     "metadata": {},
     "output_type": "display_data"
    },
    {
     "data": {
      "text/markdown": [
       "<span style=\"color:#33cc99\">Solution:</span> In this case, the categorical scatter plot from **Step 7** is the more appropriate plot. While both plots tell the desired story, the plot from **Step 6** conveys far more information that could distract from the main point."
      ],
      "text/plain": [
       "Solution: In this case, the categorical scatter plot from **Step 7** is the more appropriate plot. While both plots tell the desired story, the plot from **Step 6** conveys far more information that could distract from the main point."
      ]
     },
     "metadata": {},
     "output_type": "display_data"
    }
   ],
   "source": [
    "# Check your answer (Run this code cell to receive credit!)\n",
    "step_7.b.solution()"
   ]
  },
  {
   "cell_type": "markdown",
   "id": "1028491f",
   "metadata": {
    "papermill": {
     "duration": 0.014336,
     "end_time": "2022-11-15T00:38:53.283235",
     "exception": false,
     "start_time": "2022-11-15T00:38:53.268899",
     "status": "completed"
    },
    "tags": []
   },
   "source": [
    "## Keep going\n",
    "\n",
    "Explore **[histograms and density plots](https://www.kaggle.com/alexisbcook/distributions)**."
   ]
  },
  {
   "cell_type": "markdown",
   "id": "b3595979",
   "metadata": {
    "papermill": {
     "duration": 0.014461,
     "end_time": "2022-11-15T00:38:53.312027",
     "exception": false,
     "start_time": "2022-11-15T00:38:53.297566",
     "status": "completed"
    },
    "tags": []
   },
   "source": [
    "---\n",
    "\n",
    "\n",
    "\n",
    "\n",
    "*Have questions or comments? Visit the [course discussion forum](https://www.kaggle.com/learn/data-visualization/discussion) to chat with other learners.*"
   ]
  }
 ],
 "metadata": {
  "kernelspec": {
   "display_name": "Python 3",
   "language": "python",
   "name": "python3"
  },
  "language_info": {
   "codemirror_mode": {
    "name": "ipython",
    "version": 3
   },
   "file_extension": ".py",
   "mimetype": "text/x-python",
   "name": "python",
   "nbconvert_exporter": "python",
   "pygments_lexer": "ipython3",
   "version": "3.7.12"
  },
  "papermill": {
   "default_parameters": {},
   "duration": 14.528999,
   "end_time": "2022-11-15T00:38:54.048549",
   "environment_variables": {},
   "exception": null,
   "input_path": "__notebook__.ipynb",
   "output_path": "__notebook__.ipynb",
   "parameters": {},
   "start_time": "2022-11-15T00:38:39.519550",
   "version": "2.3.4"
  }
 },
 "nbformat": 4,
 "nbformat_minor": 5
}
