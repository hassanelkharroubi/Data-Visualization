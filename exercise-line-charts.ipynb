{
 "cells": [
  {
   "cell_type": "markdown",
   "id": "b6ce7e86",
   "metadata": {
    "papermill": {
     "duration": 0.007184,
     "end_time": "2022-11-15T00:38:33.713641",
     "exception": false,
     "start_time": "2022-11-15T00:38:33.706457",
     "status": "completed"
    },
    "tags": []
   },
   "source": [
    "**This notebook is an exercise in the [Data Visualization](https://www.kaggle.com/learn/data-visualization) course.  You can reference the tutorial at [this link](https://www.kaggle.com/alexisbcook/line-charts).**\n",
    "\n",
    "---\n"
   ]
  },
  {
   "cell_type": "markdown",
   "id": "363c45e4",
   "metadata": {
    "papermill": {
     "duration": 0.005739,
     "end_time": "2022-11-15T00:38:33.725694",
     "exception": false,
     "start_time": "2022-11-15T00:38:33.719955",
     "status": "completed"
    },
    "tags": []
   },
   "source": [
    "In this exercise, you will use your new knowledge to propose a solution to a real-world scenario. To succeed, you will need to import data into Python, answer questions using the data, and generate **line charts** to understand patterns in the data.\n",
    "\n",
    "## Scenario\n",
    "\n",
    "You have recently been hired to manage the museums in the City of Los Angeles. Your first project focuses on the four museums pictured in the images below.\n",
    "\n",
    "![ex1_museums](https://i.imgur.com/pFYL8J1.png)\n",
    "\n",
    "You will leverage data from the Los Angeles [Data Portal](https://data.lacity.org/) that tracks monthly visitors to each museum.  \n",
    "\n",
    "![ex1_xlsx](https://i.imgur.com/mGWYlym.png)\n",
    "\n",
    "## Setup\n",
    "\n",
    "Run the next cell to import and configure the Python libraries that you need to complete the exercise."
   ]
  },
  {
   "cell_type": "code",
   "execution_count": 1,
   "id": "5d0585de",
   "metadata": {
    "execution": {
     "iopub.execute_input": "2022-11-15T00:38:33.739615Z",
     "iopub.status.busy": "2022-11-15T00:38:33.739121Z",
     "iopub.status.idle": "2022-11-15T00:38:35.004309Z",
     "shell.execute_reply": "2022-11-15T00:38:35.002662Z"
    },
    "papermill": {
     "duration": 1.275555,
     "end_time": "2022-11-15T00:38:35.007380",
     "exception": false,
     "start_time": "2022-11-15T00:38:33.731825",
     "status": "completed"
    },
    "tags": []
   },
   "outputs": [
    {
     "name": "stdout",
     "output_type": "stream",
     "text": [
      "Setup Complete\n"
     ]
    }
   ],
   "source": [
    "import pandas as pd\n",
    "pd.plotting.register_matplotlib_converters()\n",
    "import matplotlib.pyplot as plt\n",
    "%matplotlib inline\n",
    "import seaborn as sns\n",
    "print(\"Setup Complete\")"
   ]
  },
  {
   "cell_type": "markdown",
   "id": "8053c2ed",
   "metadata": {
    "papermill": {
     "duration": 0.005648,
     "end_time": "2022-11-15T00:38:35.019542",
     "exception": false,
     "start_time": "2022-11-15T00:38:35.013894",
     "status": "completed"
    },
    "tags": []
   },
   "source": [
    "The questions below will give you feedback on your work. Run the following cell to set up the feedback system."
   ]
  },
  {
   "cell_type": "code",
   "execution_count": 2,
   "id": "af960d1c",
   "metadata": {
    "execution": {
     "iopub.execute_input": "2022-11-15T00:38:35.033597Z",
     "iopub.status.busy": "2022-11-15T00:38:35.033131Z",
     "iopub.status.idle": "2022-11-15T00:38:35.105143Z",
     "shell.execute_reply": "2022-11-15T00:38:35.103915Z"
    },
    "papermill": {
     "duration": 0.082143,
     "end_time": "2022-11-15T00:38:35.107767",
     "exception": false,
     "start_time": "2022-11-15T00:38:35.025624",
     "status": "completed"
    },
    "tags": []
   },
   "outputs": [
    {
     "name": "stdout",
     "output_type": "stream",
     "text": [
      "Setup Complete\n"
     ]
    }
   ],
   "source": [
    "# Set up code checking\n",
    "import os\n",
    "if not os.path.exists(\"../input/museum_visitors.csv\"):\n",
    "    os.symlink(\"../input/data-for-datavis/museum_visitors.csv\", \"../input/museum_visitors.csv\") \n",
    "from learntools.core import binder\n",
    "binder.bind(globals())\n",
    "from learntools.data_viz_to_coder.ex2 import *\n",
    "print(\"Setup Complete\")"
   ]
  },
  {
   "cell_type": "markdown",
   "id": "2fdf7403",
   "metadata": {
    "papermill": {
     "duration": 0.005941,
     "end_time": "2022-11-15T00:38:35.119907",
     "exception": false,
     "start_time": "2022-11-15T00:38:35.113966",
     "status": "completed"
    },
    "tags": []
   },
   "source": [
    "## Step 1: Load the data\n",
    "\n",
    "Your first assignment is to read the LA Museum Visitors data file into `museum_data`.  Note that:\n",
    "- The filepath to the dataset is stored as `museum_filepath`.  Please **do not** change the provided value of the filepath.\n",
    "- The name of the column to use as row labels is `\"Date\"`.  (This can be seen in cell A1 when the file is opened in Excel.)\n",
    "\n",
    "To help with this, you may find it useful to revisit some relevant code from the tutorial, which we have pasted below:\n",
    "\n",
    "```python\n",
    "# Path of the file to read\n",
    "spotify_filepath = \"../input/spotify.csv\"\n",
    "\n",
    "# Read the file into a variable spotify_data\n",
    "spotify_data = pd.read_csv(spotify_filepath, index_col=\"Date\", parse_dates=True)\n",
    "```\n",
    "\n",
    "The code you need to write now looks very similar!"
   ]
  },
  {
   "cell_type": "code",
   "execution_count": 3,
   "id": "7d6979d2",
   "metadata": {
    "execution": {
     "iopub.execute_input": "2022-11-15T00:38:35.134274Z",
     "iopub.status.busy": "2022-11-15T00:38:35.133385Z",
     "iopub.status.idle": "2022-11-15T00:38:35.151687Z",
     "shell.execute_reply": "2022-11-15T00:38:35.150464Z"
    },
    "papermill": {
     "duration": 0.028116,
     "end_time": "2022-11-15T00:38:35.154177",
     "exception": false,
     "start_time": "2022-11-15T00:38:35.126061",
     "status": "completed"
    },
    "tags": []
   },
   "outputs": [
    {
     "data": {
      "application/javascript": [
       "parent.postMessage({\"jupyterEvent\": \"custom.exercise_interaction\", \"data\": {\"outcomeType\": 1, \"valueTowardsCompletion\": 0.3333333333333333, \"interactionType\": 1, \"questionType\": 1, \"questionId\": \"1_LoadMuseumData\", \"learnToolsVersion\": \"0.3.4\", \"failureMessage\": \"\", \"exceptionClass\": \"\", \"trace\": \"\"}}, \"*\")"
      ],
      "text/plain": [
       "<IPython.core.display.Javascript object>"
      ]
     },
     "metadata": {},
     "output_type": "display_data"
    },
    {
     "data": {
      "text/markdown": [
       "<span style=\"color:#33cc33\">Correct</span>"
      ],
      "text/plain": [
       "Correct"
      ]
     },
     "metadata": {},
     "output_type": "display_data"
    }
   ],
   "source": [
    "# Path of the file to read\n",
    "museum_filepath = \"../input/museum_visitors.csv\"\n",
    "\n",
    "# Fill in the line below to read the file into a variable museum_data\n",
    "museum_data = pd.read_csv(museum_filepath,index_col=\"Date\",parse_dates=True)\n",
    "\n",
    "# Run the line below with no changes to check that you've loaded the data correctly\n",
    "step_1.check()"
   ]
  },
  {
   "cell_type": "code",
   "execution_count": 4,
   "id": "90d64c8e",
   "metadata": {
    "execution": {
     "iopub.execute_input": "2022-11-15T00:38:35.170349Z",
     "iopub.status.busy": "2022-11-15T00:38:35.169921Z",
     "iopub.status.idle": "2022-11-15T00:38:35.174493Z",
     "shell.execute_reply": "2022-11-15T00:38:35.173367Z"
    },
    "papermill": {
     "duration": 0.016507,
     "end_time": "2022-11-15T00:38:35.176841",
     "exception": false,
     "start_time": "2022-11-15T00:38:35.160334",
     "status": "completed"
    },
    "tags": []
   },
   "outputs": [],
   "source": [
    "# Uncomment the line below to receive a hint\n",
    "#step_1.hint()\n",
    "# Uncomment the line below to see the solution\n",
    "#step_1.solution()"
   ]
  },
  {
   "cell_type": "markdown",
   "id": "c77038d8",
   "metadata": {
    "papermill": {
     "duration": 0.005934,
     "end_time": "2022-11-15T00:38:35.189123",
     "exception": false,
     "start_time": "2022-11-15T00:38:35.183189",
     "status": "completed"
    },
    "tags": []
   },
   "source": [
    "## Step 2: Review the data\n",
    "\n",
    "Use a Python command to print the last 5 rows of the data."
   ]
  },
  {
   "cell_type": "code",
   "execution_count": 5,
   "id": "12749c51",
   "metadata": {
    "execution": {
     "iopub.execute_input": "2022-11-15T00:38:35.203483Z",
     "iopub.status.busy": "2022-11-15T00:38:35.203046Z",
     "iopub.status.idle": "2022-11-15T00:38:35.218987Z",
     "shell.execute_reply": "2022-11-15T00:38:35.217987Z"
    },
    "papermill": {
     "duration": 0.026017,
     "end_time": "2022-11-15T00:38:35.221370",
     "exception": false,
     "start_time": "2022-11-15T00:38:35.195353",
     "status": "completed"
    },
    "tags": []
   },
   "outputs": [
    {
     "data": {
      "text/html": [
       "<div>\n",
       "<style scoped>\n",
       "    .dataframe tbody tr th:only-of-type {\n",
       "        vertical-align: middle;\n",
       "    }\n",
       "\n",
       "    .dataframe tbody tr th {\n",
       "        vertical-align: top;\n",
       "    }\n",
       "\n",
       "    .dataframe thead th {\n",
       "        text-align: right;\n",
       "    }\n",
       "</style>\n",
       "<table border=\"1\" class=\"dataframe\">\n",
       "  <thead>\n",
       "    <tr style=\"text-align: right;\">\n",
       "      <th></th>\n",
       "      <th>Avila Adobe</th>\n",
       "      <th>Firehouse Museum</th>\n",
       "      <th>Chinese American Museum</th>\n",
       "      <th>America Tropical Interpretive Center</th>\n",
       "    </tr>\n",
       "    <tr>\n",
       "      <th>Date</th>\n",
       "      <th></th>\n",
       "      <th></th>\n",
       "      <th></th>\n",
       "      <th></th>\n",
       "    </tr>\n",
       "  </thead>\n",
       "  <tbody>\n",
       "    <tr>\n",
       "      <th>2014-01-01</th>\n",
       "      <td>24778</td>\n",
       "      <td>4486</td>\n",
       "      <td>1581</td>\n",
       "      <td>6602</td>\n",
       "    </tr>\n",
       "    <tr>\n",
       "      <th>2014-02-01</th>\n",
       "      <td>18976</td>\n",
       "      <td>4172</td>\n",
       "      <td>1785</td>\n",
       "      <td>5029</td>\n",
       "    </tr>\n",
       "    <tr>\n",
       "      <th>2014-03-01</th>\n",
       "      <td>25231</td>\n",
       "      <td>7082</td>\n",
       "      <td>3229</td>\n",
       "      <td>8129</td>\n",
       "    </tr>\n",
       "    <tr>\n",
       "      <th>2014-04-01</th>\n",
       "      <td>26989</td>\n",
       "      <td>6756</td>\n",
       "      <td>2129</td>\n",
       "      <td>2824</td>\n",
       "    </tr>\n",
       "    <tr>\n",
       "      <th>2014-05-01</th>\n",
       "      <td>36883</td>\n",
       "      <td>10858</td>\n",
       "      <td>3676</td>\n",
       "      <td>10694</td>\n",
       "    </tr>\n",
       "  </tbody>\n",
       "</table>\n",
       "</div>"
      ],
      "text/plain": [
       "            Avila Adobe  Firehouse Museum  Chinese American Museum  \\\n",
       "Date                                                                 \n",
       "2014-01-01        24778              4486                     1581   \n",
       "2014-02-01        18976              4172                     1785   \n",
       "2014-03-01        25231              7082                     3229   \n",
       "2014-04-01        26989              6756                     2129   \n",
       "2014-05-01        36883             10858                     3676   \n",
       "\n",
       "            America Tropical Interpretive Center  \n",
       "Date                                              \n",
       "2014-01-01                                  6602  \n",
       "2014-02-01                                  5029  \n",
       "2014-03-01                                  8129  \n",
       "2014-04-01                                  2824  \n",
       "2014-05-01                                 10694  "
      ]
     },
     "execution_count": 5,
     "metadata": {},
     "output_type": "execute_result"
    }
   ],
   "source": [
    "# Print the last five rows of the data \n",
    "museum_data.head()"
   ]
  },
  {
   "cell_type": "code",
   "execution_count": 6,
   "id": "8e1c15df",
   "metadata": {
    "execution": {
     "iopub.execute_input": "2022-11-15T00:38:35.236475Z",
     "iopub.status.busy": "2022-11-15T00:38:35.236042Z",
     "iopub.status.idle": "2022-11-15T00:38:35.248000Z",
     "shell.execute_reply": "2022-11-15T00:38:35.247142Z"
    },
    "papermill": {
     "duration": 0.022471,
     "end_time": "2022-11-15T00:38:35.250468",
     "exception": false,
     "start_time": "2022-11-15T00:38:35.227997",
     "status": "completed"
    },
    "tags": []
   },
   "outputs": [
    {
     "data": {
      "text/html": [
       "<div>\n",
       "<style scoped>\n",
       "    .dataframe tbody tr th:only-of-type {\n",
       "        vertical-align: middle;\n",
       "    }\n",
       "\n",
       "    .dataframe tbody tr th {\n",
       "        vertical-align: top;\n",
       "    }\n",
       "\n",
       "    .dataframe thead th {\n",
       "        text-align: right;\n",
       "    }\n",
       "</style>\n",
       "<table border=\"1\" class=\"dataframe\">\n",
       "  <thead>\n",
       "    <tr style=\"text-align: right;\">\n",
       "      <th></th>\n",
       "      <th>Avila Adobe</th>\n",
       "      <th>Firehouse Museum</th>\n",
       "      <th>Chinese American Museum</th>\n",
       "      <th>America Tropical Interpretive Center</th>\n",
       "    </tr>\n",
       "    <tr>\n",
       "      <th>Date</th>\n",
       "      <th></th>\n",
       "      <th></th>\n",
       "      <th></th>\n",
       "      <th></th>\n",
       "    </tr>\n",
       "  </thead>\n",
       "  <tbody>\n",
       "    <tr>\n",
       "      <th>2018-06-01</th>\n",
       "      <td>22171</td>\n",
       "      <td>4635</td>\n",
       "      <td>2518</td>\n",
       "      <td>4694</td>\n",
       "    </tr>\n",
       "    <tr>\n",
       "      <th>2018-07-01</th>\n",
       "      <td>23136</td>\n",
       "      <td>4191</td>\n",
       "      <td>2620</td>\n",
       "      <td>4718</td>\n",
       "    </tr>\n",
       "    <tr>\n",
       "      <th>2018-08-01</th>\n",
       "      <td>20815</td>\n",
       "      <td>4866</td>\n",
       "      <td>2409</td>\n",
       "      <td>3891</td>\n",
       "    </tr>\n",
       "    <tr>\n",
       "      <th>2018-09-01</th>\n",
       "      <td>21020</td>\n",
       "      <td>4956</td>\n",
       "      <td>2146</td>\n",
       "      <td>3180</td>\n",
       "    </tr>\n",
       "    <tr>\n",
       "      <th>2018-10-01</th>\n",
       "      <td>19280</td>\n",
       "      <td>4622</td>\n",
       "      <td>2364</td>\n",
       "      <td>3775</td>\n",
       "    </tr>\n",
       "    <tr>\n",
       "      <th>2018-11-01</th>\n",
       "      <td>17163</td>\n",
       "      <td>4082</td>\n",
       "      <td>2385</td>\n",
       "      <td>4562</td>\n",
       "    </tr>\n",
       "  </tbody>\n",
       "</table>\n",
       "</div>"
      ],
      "text/plain": [
       "            Avila Adobe  Firehouse Museum  Chinese American Museum  \\\n",
       "Date                                                                 \n",
       "2018-06-01        22171              4635                     2518   \n",
       "2018-07-01        23136              4191                     2620   \n",
       "2018-08-01        20815              4866                     2409   \n",
       "2018-09-01        21020              4956                     2146   \n",
       "2018-10-01        19280              4622                     2364   \n",
       "2018-11-01        17163              4082                     2385   \n",
       "\n",
       "            America Tropical Interpretive Center  \n",
       "Date                                              \n",
       "2018-06-01                                  4694  \n",
       "2018-07-01                                  4718  \n",
       "2018-08-01                                  3891  \n",
       "2018-09-01                                  3180  \n",
       "2018-10-01                                  3775  \n",
       "2018-11-01                                  4562  "
      ]
     },
     "execution_count": 6,
     "metadata": {},
     "output_type": "execute_result"
    }
   ],
   "source": [
    "museum_data.tail(6)"
   ]
  },
  {
   "cell_type": "markdown",
   "id": "ffd36ad9",
   "metadata": {
    "papermill": {
     "duration": 0.006357,
     "end_time": "2022-11-15T00:38:35.263658",
     "exception": false,
     "start_time": "2022-11-15T00:38:35.257301",
     "status": "completed"
    },
    "tags": []
   },
   "source": [
    "The last row (for `2018-11-01`) tracks the number of visitors to each museum in November 2018, the next-to-last row (for `2018-10-01`) tracks the number of visitors to each museum in October 2018, _and so on_.\n",
    "\n",
    "Use the last 5 rows of the data to answer the questions below."
   ]
  },
  {
   "cell_type": "code",
   "execution_count": 7,
   "id": "52eb6bf7",
   "metadata": {
    "execution": {
     "iopub.execute_input": "2022-11-15T00:38:35.278901Z",
     "iopub.status.busy": "2022-11-15T00:38:35.278421Z",
     "iopub.status.idle": "2022-11-15T00:38:35.288446Z",
     "shell.execute_reply": "2022-11-15T00:38:35.287332Z"
    },
    "papermill": {
     "duration": 0.020212,
     "end_time": "2022-11-15T00:38:35.290632",
     "exception": false,
     "start_time": "2022-11-15T00:38:35.270420",
     "status": "completed"
    },
    "tags": []
   },
   "outputs": [
    {
     "data": {
      "application/javascript": [
       "parent.postMessage({\"jupyterEvent\": \"custom.exercise_interaction\", \"data\": {\"outcomeType\": 1, \"valueTowardsCompletion\": 0.3333333333333333, \"interactionType\": 1, \"questionType\": 1, \"questionId\": \"2_ReviewData\", \"learnToolsVersion\": \"0.3.4\", \"failureMessage\": \"\", \"exceptionClass\": \"\", \"trace\": \"\"}}, \"*\")"
      ],
      "text/plain": [
       "<IPython.core.display.Javascript object>"
      ]
     },
     "metadata": {},
     "output_type": "display_data"
    },
    {
     "data": {
      "text/markdown": [
       "<span style=\"color:#33cc33\">Correct</span>"
      ],
      "text/plain": [
       "Correct"
      ]
     },
     "metadata": {},
     "output_type": "display_data"
    }
   ],
   "source": [
    "# Fill in the line below: How many visitors did the Chinese American Museum \n",
    "# receive in July 2018?\n",
    "ca_museum_jul18 = 2620\n",
    "\n",
    "# Fill in the line below: In October 2018, how many more visitors did Avila \n",
    "# Adobe receive than the Firehouse Museum?\n",
    "avila_oct18 = 19280-4622\n",
    "\n",
    "# Check your answers\n",
    "step_2.check()"
   ]
  },
  {
   "cell_type": "code",
   "execution_count": 8,
   "id": "9404b5ac",
   "metadata": {
    "execution": {
     "iopub.execute_input": "2022-11-15T00:38:35.308306Z",
     "iopub.status.busy": "2022-11-15T00:38:35.306867Z",
     "iopub.status.idle": "2022-11-15T00:38:35.312395Z",
     "shell.execute_reply": "2022-11-15T00:38:35.311343Z"
    },
    "papermill": {
     "duration": 0.016912,
     "end_time": "2022-11-15T00:38:35.314727",
     "exception": false,
     "start_time": "2022-11-15T00:38:35.297815",
     "status": "completed"
    },
    "tags": []
   },
   "outputs": [],
   "source": [
    "# Lines below will give you a hint or solution code\n",
    "#step_2.hint()\n",
    "#step_2.solution()"
   ]
  },
  {
   "cell_type": "markdown",
   "id": "f438a1d0",
   "metadata": {
    "papermill": {
     "duration": 0.006769,
     "end_time": "2022-11-15T00:38:35.328538",
     "exception": false,
     "start_time": "2022-11-15T00:38:35.321769",
     "status": "completed"
    },
    "tags": []
   },
   "source": [
    "## Step 3: Convince the museum board \n",
    "\n",
    "The Firehouse Museum claims they ran an event in 2014 that brought an incredible number of visitors, and that they should get extra budget to run a similar event again.  The other museums think these types of events aren't that important, and budgets should be split purely based on recent visitors on an average day.  \n",
    "\n",
    "To show the museum board how the event compared to regular traffic at each museum, create a line chart that shows how the number of visitors to each museum evolved over time.  Your figure should have four lines (one for each museum).\n",
    "\n",
    "> **(Optional) Note**: If you have some prior experience with plotting figures in Python, you might be familiar with the `plt.show()` command.  If you decide to use this command, please place it **after** the line of code that checks your answer (in this case, place it after `step_3.check()` below) -- otherwise, the checking code will return an error!"
   ]
  },
  {
   "cell_type": "code",
   "execution_count": 9,
   "id": "d323d45d",
   "metadata": {
    "execution": {
     "iopub.execute_input": "2022-11-15T00:38:35.344843Z",
     "iopub.status.busy": "2022-11-15T00:38:35.343936Z",
     "iopub.status.idle": "2022-11-15T00:38:35.783489Z",
     "shell.execute_reply": "2022-11-15T00:38:35.782142Z"
    },
    "papermill": {
     "duration": 0.450999,
     "end_time": "2022-11-15T00:38:35.786525",
     "exception": false,
     "start_time": "2022-11-15T00:38:35.335526",
     "status": "completed"
    },
    "tags": []
   },
   "outputs": [
    {
     "data": {
      "application/javascript": [
       "parent.postMessage({\"jupyterEvent\": \"custom.exercise_interaction\", \"data\": {\"outcomeType\": 1, \"valueTowardsCompletion\": 0.3333333333333333, \"interactionType\": 1, \"questionType\": 2, \"questionId\": \"3_PlotAll\", \"learnToolsVersion\": \"0.3.4\", \"failureMessage\": \"\", \"exceptionClass\": \"\", \"trace\": \"\"}}, \"*\")"
      ],
      "text/plain": [
       "<IPython.core.display.Javascript object>"
      ]
     },
     "metadata": {},
     "output_type": "display_data"
    },
    {
     "data": {
      "text/markdown": [
       "<span style=\"color:#33cc33\">Correct</span>"
      ],
      "text/plain": [
       "Correct"
      ]
     },
     "metadata": {},
     "output_type": "display_data"
    },
    {
     "data": {
      "image/png": "[encoded data removed]",
      "text/plain": [
       "<Figure size 432x288 with 1 Axes>"
      ]
     },
     "metadata": {
      "needs_background": "light"
     },
     "output_type": "display_data"
    }
   ],
   "source": [
    "# Line chart showing the number of visitors to each museum over time\n",
    "# Your code here\n",
    "sns.lineplot(data=museum_data)\n",
    "plt.ylabel(\"Number of Visitors\")\n",
    "\n",
    "# Check your answer\n",
    "step_3.check()\n",
    "plt.show()"
   ]
  },
  {
   "cell_type": "code",
   "execution_count": 10,
   "id": "b1892044",
   "metadata": {
    "execution": {
     "iopub.execute_input": "2022-11-15T00:38:35.804851Z",
     "iopub.status.busy": "2022-11-15T00:38:35.804389Z",
     "iopub.status.idle": "2022-11-15T00:38:35.809240Z",
     "shell.execute_reply": "2022-11-15T00:38:35.807955Z"
    },
    "papermill": {
     "duration": 0.017148,
     "end_time": "2022-11-15T00:38:35.811667",
     "exception": false,
     "start_time": "2022-11-15T00:38:35.794519",
     "status": "completed"
    },
    "tags": []
   },
   "outputs": [],
   "source": [
    "# Lines below will give you a hint or solution code\n",
    "#step_3.hint()\n",
    "#step_3.solution_plot()"
   ]
  },
  {
   "cell_type": "markdown",
   "id": "b60c8ffd",
   "metadata": {
    "papermill": {
     "duration": 0.007821,
     "end_time": "2022-11-15T00:38:35.827526",
     "exception": false,
     "start_time": "2022-11-15T00:38:35.819705",
     "status": "completed"
    },
    "tags": []
   },
   "source": [
    "## Step 4: Assess seasonality\n",
    "\n",
    "When meeting with the employees at Avila Adobe, you hear that one major pain point is that the number of museum visitors varies greatly with the seasons, with low seasons (when the employees are perfectly staffed and happy) and also high seasons (when the employees are understaffed and stressed).  You realize that if you can predict these high and low seasons, you can plan ahead to hire some additional seasonal employees to help out with the extra work.\n",
    "\n",
    "#### Part A\n",
    "Create a line chart that shows how the number of visitors to Avila Adobe has evolved over time.  (_If your code returns an error, the first thing that you should check is that you've spelled the name of the column correctly!  You must write the name of the column exactly as it appears in the dataset._)"
   ]
  },
  {
   "cell_type": "code",
   "execution_count": 11,
   "id": "34c6a1ca",
   "metadata": {
    "execution": {
     "iopub.execute_input": "2022-11-15T00:38:35.846525Z",
     "iopub.status.busy": "2022-11-15T00:38:35.845653Z",
     "iopub.status.idle": "2022-11-15T00:38:35.853743Z",
     "shell.execute_reply": "2022-11-15T00:38:35.852540Z"
    },
    "papermill": {
     "duration": 0.020579,
     "end_time": "2022-11-15T00:38:35.856299",
     "exception": false,
     "start_time": "2022-11-15T00:38:35.835720",
     "status": "completed"
    },
    "tags": []
   },
   "outputs": [
    {
     "data": {
      "text/plain": [
       "['Avila Adobe',\n",
       " 'Firehouse Museum',\n",
       " 'Chinese American Museum',\n",
       " 'America Tropical Interpretive Center']"
      ]
     },
     "execution_count": 11,
     "metadata": {},
     "output_type": "execute_result"
    }
   ],
   "source": [
    "list(museum_data.columns)"
   ]
  },
  {
   "cell_type": "code",
   "execution_count": 12,
   "id": "f5c4b012",
   "metadata": {
    "execution": {
     "iopub.execute_input": "2022-11-15T00:38:35.874637Z",
     "iopub.status.busy": "2022-11-15T00:38:35.874188Z",
     "iopub.status.idle": "2022-11-15T00:38:36.182734Z",
     "shell.execute_reply": "2022-11-15T00:38:36.181460Z"
    },
    "papermill": {
     "duration": 0.32122,
     "end_time": "2022-11-15T00:38:36.185731",
     "exception": false,
     "start_time": "2022-11-15T00:38:35.864511",
     "status": "completed"
    },
    "tags": []
   },
   "outputs": [
    {
     "name": "stdout",
     "output_type": "stream",
     "text": [
      "Thank you for creating a line chart!  To see how your code compares to the official solution, please use the code cell below.\n"
     ]
    },
    {
     "data": {
      "application/javascript": [
       "parent.postMessage({\"jupyterEvent\": \"custom.exercise_interaction\", \"data\": {\"outcomeType\": 1, \"valueTowardsCompletion\": 0.3333333333333333, \"interactionType\": 1, \"questionType\": 2, \"questionId\": \"4.1_PlotAvila\", \"learnToolsVersion\": \"0.3.4\", \"failureMessage\": \"\", \"exceptionClass\": \"\", \"trace\": \"\"}}, \"*\")"
      ],
      "text/plain": [
       "<IPython.core.display.Javascript object>"
      ]
     },
     "metadata": {},
     "output_type": "display_data"
    },
    {
     "data": {
      "text/markdown": [
       "<span style=\"color:#33cc33\">Correct</span>"
      ],
      "text/plain": [
       "Correct"
      ]
     },
     "metadata": {},
     "output_type": "display_data"
    },
    {
     "data": {
      "image/png": "[encoded data removed]",
      "text/plain": [
       "<Figure size 1152x216 with 1 Axes>"
      ]
     },
     "metadata": {
      "needs_background": "light"
     },
     "output_type": "display_data"
    }
   ],
   "source": [
    "# Line plot showing the number of visitors to Avila Adobe over time\n",
    "____ # Your code here\n",
    "plt.figure(figsize=(16,3))\n",
    "sns.lineplot(data=museum_data[\"Avila Adobe\"])\n",
    "plt.ylabel(\"Number of Visitors\")\n",
    "# Check your answer\n",
    "step_4.a.check()"
   ]
  },
  {
   "cell_type": "code",
   "execution_count": 13,
   "id": "f47c5f14",
   "metadata": {
    "execution": {
     "iopub.execute_input": "2022-11-15T00:38:36.207197Z",
     "iopub.status.busy": "2022-11-15T00:38:36.206727Z",
     "iopub.status.idle": "2022-11-15T00:38:36.524184Z",
     "shell.execute_reply": "2022-11-15T00:38:36.522970Z"
    },
    "papermill": {
     "duration": 0.331478,
     "end_time": "2022-11-15T00:38:36.526701",
     "exception": false,
     "start_time": "2022-11-15T00:38:36.195223",
     "status": "completed"
    },
    "tags": []
   },
   "outputs": [
    {
     "data": {
      "application/javascript": [
       "parent.postMessage({\"jupyterEvent\": \"custom.exercise_interaction\", \"data\": {\"interactionType\": 3, \"questionType\": 2, \"questionId\": \"4.1_PlotAvila\", \"learnToolsVersion\": \"0.3.4\", \"valueTowardsCompletion\": 0.0, \"failureMessage\": \"\", \"exceptionClass\": \"\", \"trace\": \"\", \"outcomeType\": 4}}, \"*\")"
      ],
      "text/plain": [
       "<IPython.core.display.Javascript object>"
      ]
     },
     "metadata": {},
     "output_type": "display_data"
    },
    {
     "data": {
      "text/markdown": [
       "<span style=\"color:#33cc99\">Solution:</span> \n",
       "```python\n",
       "# Set the width and height of the figure\n",
       "plt.figure(figsize=(12,6))\n",
       "# Add title\n",
       "plt.title(\"Monthly Visitors to Avila Adobe\")\n",
       "# Line chart showing the number of visitors to Avila Adobe over time\n",
       "sns.lineplot(data=museum_data['Avila Adobe'])\n",
       "# Add label for horizontal axis\n",
       "plt.xlabel(\"Date\")\n",
       "\n",
       "```"
      ],
      "text/plain": [
       "Solution: \n",
       "```python\n",
       "# Set the width and height of the figure\n",
       "plt.figure(figsize=(12,6))\n",
       "# Add title\n",
       "plt.title(\"Monthly Visitors to Avila Adobe\")\n",
       "# Line chart showing the number of visitors to Avila Adobe over time\n",
       "sns.lineplot(data=museum_data['Avila Adobe'])\n",
       "# Add label for horizontal axis\n",
       "plt.xlabel(\"Date\")\n",
       "\n",
       "```"
      ]
     },
     "metadata": {},
     "output_type": "display_data"
    },
    {
     "data": {
      "image/png": "[encoded data removed]",
      "text/plain": [
       "<Figure size 864x432 with 1 Axes>"
      ]
     },
     "metadata": {
      "needs_background": "light"
     },
     "output_type": "display_data"
    }
   ],
   "source": [
    "# Lines below will give you a hint or solution code\n",
    "#step_4.a.hint()\n",
    "step_4.a.solution_plot()"
   ]
  },
  {
   "cell_type": "markdown",
   "id": "f72b8dea",
   "metadata": {
    "papermill": {
     "duration": 0.010551,
     "end_time": "2022-11-15T00:38:36.547761",
     "exception": false,
     "start_time": "2022-11-15T00:38:36.537210",
     "status": "completed"
    },
    "tags": []
   },
   "source": [
    "#### Part B\n",
    "\n",
    "Does Avila Adobe get more visitors:\n",
    "- in September-February (in LA, the fall and winter months), or \n",
    "- in March-August (in LA, the spring and summer)?  \n",
    "\n",
    "Using this information, when should the museum staff additional seasonal employees?"
   ]
  },
  {
   "cell_type": "code",
   "execution_count": 14,
   "id": "82604ca8",
   "metadata": {
    "execution": {
     "iopub.execute_input": "2022-11-15T00:38:36.570997Z",
     "iopub.status.busy": "2022-11-15T00:38:36.570206Z",
     "iopub.status.idle": "2022-11-15T00:38:36.575461Z",
     "shell.execute_reply": "2022-11-15T00:38:36.574616Z"
    },
    "papermill": {
     "duration": 0.019664,
     "end_time": "2022-11-15T00:38:36.577825",
     "exception": false,
     "start_time": "2022-11-15T00:38:36.558161",
     "status": "completed"
    },
    "tags": []
   },
   "outputs": [],
   "source": [
    "#step_4.b.hint()"
   ]
  },
  {
   "cell_type": "code",
   "execution_count": 15,
   "id": "181409e2",
   "metadata": {
    "execution": {
     "iopub.execute_input": "2022-11-15T00:38:36.600908Z",
     "iopub.status.busy": "2022-11-15T00:38:36.600019Z",
     "iopub.status.idle": "2022-11-15T00:38:36.610259Z",
     "shell.execute_reply": "2022-11-15T00:38:36.609079Z"
    },
    "papermill": {
     "duration": 0.024524,
     "end_time": "2022-11-15T00:38:36.612707",
     "exception": false,
     "start_time": "2022-11-15T00:38:36.588183",
     "status": "completed"
    },
    "tags": []
   },
   "outputs": [
    {
     "data": {
      "application/javascript": [
       "parent.postMessage({\"jupyterEvent\": \"custom.exercise_interaction\", \"data\": {\"interactionType\": 3, \"questionType\": 4, \"questionId\": \"4.2_ThinkAvila\", \"learnToolsVersion\": \"0.3.4\", \"valueTowardsCompletion\": 0.0, \"failureMessage\": \"\", \"exceptionClass\": \"\", \"trace\": \"\", \"outcomeType\": 4}}, \"*\")"
      ],
      "text/plain": [
       "<IPython.core.display.Javascript object>"
      ]
     },
     "metadata": {},
     "output_type": "display_data"
    },
    {
     "data": {
      "text/markdown": [
       "<span style=\"color:#33cc99\">Solution:</span> The line chart generally dips to relatively low values around the early part of each year (in December and January), and reaches its highest values in the middle of the year (especially around May and June).  Thus, Avila Adobe usually gets more visitors in March-August (or the spring and summer months).  With this in mind, Avila Adobe could definitely benefit from hiring more seasonal employees to help with the extra work in March-August (the spring and summer)!"
      ],
      "text/plain": [
       "Solution: The line chart generally dips to relatively low values around the early part of each year (in December and January), and reaches its highest values in the middle of the year (especially around May and June).  Thus, Avila Adobe usually gets more visitors in March-August (or the spring and summer months).  With this in mind, Avila Adobe could definitely benefit from hiring more seasonal employees to help with the extra work in March-August (the spring and summer)!"
      ]
     },
     "metadata": {},
     "output_type": "display_data"
    }
   ],
   "source": [
    "# Check your answer (Run this code cell to receive credit!)\n",
    "step_4.b.solution()"
   ]
  },
  {
   "cell_type": "markdown",
   "id": "ec464d96",
   "metadata": {
    "papermill": {
     "duration": 0.010469,
     "end_time": "2022-11-15T00:38:36.634016",
     "exception": false,
     "start_time": "2022-11-15T00:38:36.623547",
     "status": "completed"
    },
    "tags": []
   },
   "source": [
    "# Keep going\n",
    "\n",
    "Move on to learn about **[bar charts and heatmaps](https://www.kaggle.com/alexisbcook/bar-charts-and-heatmaps)** with a new dataset!"
   ]
  },
  {
   "cell_type": "markdown",
   "id": "0edd3511",
   "metadata": {
    "papermill": {
     "duration": 0.011047,
     "end_time": "2022-11-15T00:38:36.655687",
     "exception": false,
     "start_time": "2022-11-15T00:38:36.644640",
     "status": "completed"
    },
    "tags": []
   },
   "source": [
    "---\n",
    "\n",
    "\n",
    "\n",
    "\n",
    "*Have questions or comments? Visit the [course discussion forum](https://www.kaggle.com/learn/data-visualization/discussion) to chat with other learners.*"
   ]
  }
 ],
 "metadata": {
  "kernelspec": {
   "display_name": "Python 3",
   "language": "python",
   "name": "python3"
  },
  "language_info": {
   "codemirror_mode": {
    "name": "ipython",
    "version": 3
   },
   "file_extension": ".py",
   "mimetype": "text/x-python",
   "name": "python",
   "nbconvert_exporter": "python",
   "pygments_lexer": "ipython3",
   "version": "3.7.12"
  },
  "papermill": {
   "default_parameters": {},
   "duration": 13.373186,
   "end_time": "2022-11-15T00:38:37.690598",
   "environment_variables": {},
   "exception": null,
   "input_path": "__notebook__.ipynb",
   "output_path": "__notebook__.ipynb",
   "parameters": {},
   "start_time": "2022-11-15T00:38:24.317412",
   "version": "2.3.4"
  }
 },
 "nbformat": 4,
 "nbformat_minor": 5
}
